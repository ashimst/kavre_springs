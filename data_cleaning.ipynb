{
 "cells": [
  {
   "cell_type": "markdown",
   "id": "67eeb22e",
   "metadata": {},
   "source": [
    "### 1. Importing All the necessary libraries"
   ]
  },
  {
   "cell_type": "code",
   "execution_count": 171,
   "id": "6adf165a",
   "metadata": {},
   "outputs": [],
   "source": [
    "import pandas as pd\n",
    "import numpy as np\n",
    "from sklearn.preprocessing import MultiLabelBinarizer"
   ]
  },
  {
   "cell_type": "markdown",
   "id": "5e34b7a6",
   "metadata": {},
   "source": [
    "### 2. Loading the dataset into pandas"
   ]
  },
  {
   "cell_type": "code",
   "execution_count": 172,
   "id": "02ba0c7b",
   "metadata": {},
   "outputs": [],
   "source": [
    "df= pd.read_csv('spring_data.csv')"
   ]
  },
  {
   "cell_type": "markdown",
   "id": "97202fc9",
   "metadata": {},
   "source": [
    "### 3. Dropping Unnecessary Columns"
   ]
  },
  {
   "cell_type": "code",
   "execution_count": 173,
   "id": "98c922ce",
   "metadata": {},
   "outputs": [],
   "source": [
    "df.drop(columns={'If not who are restricted?','Remarks (source specific comment)','SN'},axis=1,inplace=True)"
   ]
  },
  {
   "cell_type": "markdown",
   "id": "ccdbf30d",
   "metadata": {},
   "source": [
    "### 4. Formatting the data "
   ]
  },
  {
   "cell_type": "markdown",
   "id": "b3fa16c6",
   "metadata": {},
   "source": [
    "#### 4.1. Formatting Booleans"
   ]
  },
  {
   "cell_type": "code",
   "execution_count": 174,
   "id": "789ce91e",
   "metadata": {},
   "outputs": [],
   "source": [
    "def convert_to_boolean(df, columns, true_value='yes', false_value='no', default=False):\n",
    "    mapping = {\n",
    "        str(true_value).strip().lower(): True,\n",
    "        str(false_value).strip().lower(): False,\n",
    "        '0': default\n",
    "    }\n",
    "\n",
    "    for col in columns:\n",
    "        df[col] = (\n",
    "            df[col]\n",
    "            .astype(str)\n",
    "            .str.strip()\n",
    "            .str.lower()\n",
    "            .map(mapping)\n",
    "            .fillna(default)\n",
    "            .astype(bool)\n",
    "        )\n",
    "\n",
    "    return df"
   ]
  },
  {
   "cell_type": "code",
   "execution_count": 175,
   "id": "e78a3806",
   "metadata": {},
   "outputs": [],
   "source": [
    "bool_cols = [\n",
    "    'Is water source significant for cultural/religious purpose?',\n",
    "    'Is this source accessible to everyone in community? (in term of use access)',\n",
    "    'Any spring revival / pond protection measures taken?',\n",
    "    'Are there water user groups for management?',\n",
    "    'Is this source tapped?',\n",
    "    'Is this source in use?',\n",
    "    'After this source dried up , was there any activity for revival done in this source?'\n",
    "]"
   ]
  },
  {
   "cell_type": "code",
   "execution_count": 176,
   "id": "6a40ffa3",
   "metadata": {},
   "outputs": [
    {
     "name": "stderr",
     "output_type": "stream",
     "text": [
      "C:\\Users\\ACER\\AppData\\Local\\Temp\\ipykernel_3476\\877585188.py:15: FutureWarning: Downcasting object dtype arrays on .fillna, .ffill, .bfill is deprecated and will change in a future version. Call result.infer_objects(copy=False) instead. To opt-in to the future behavior, set `pd.set_option('future.no_silent_downcasting', True)`\n",
      "  .fillna(default)\n",
      "C:\\Users\\ACER\\AppData\\Local\\Temp\\ipykernel_3476\\877585188.py:15: FutureWarning: Downcasting object dtype arrays on .fillna, .ffill, .bfill is deprecated and will change in a future version. Call result.infer_objects(copy=False) instead. To opt-in to the future behavior, set `pd.set_option('future.no_silent_downcasting', True)`\n",
      "  .fillna(default)\n",
      "C:\\Users\\ACER\\AppData\\Local\\Temp\\ipykernel_3476\\877585188.py:15: FutureWarning: Downcasting object dtype arrays on .fillna, .ffill, .bfill is deprecated and will change in a future version. Call result.infer_objects(copy=False) instead. To opt-in to the future behavior, set `pd.set_option('future.no_silent_downcasting', True)`\n",
      "  .fillna(default)\n",
      "C:\\Users\\ACER\\AppData\\Local\\Temp\\ipykernel_3476\\877585188.py:15: FutureWarning: Downcasting object dtype arrays on .fillna, .ffill, .bfill is deprecated and will change in a future version. Call result.infer_objects(copy=False) instead. To opt-in to the future behavior, set `pd.set_option('future.no_silent_downcasting', True)`\n",
      "  .fillna(default)\n",
      "C:\\Users\\ACER\\AppData\\Local\\Temp\\ipykernel_3476\\877585188.py:15: FutureWarning: Downcasting object dtype arrays on .fillna, .ffill, .bfill is deprecated and will change in a future version. Call result.infer_objects(copy=False) instead. To opt-in to the future behavior, set `pd.set_option('future.no_silent_downcasting', True)`\n",
      "  .fillna(default)\n",
      "C:\\Users\\ACER\\AppData\\Local\\Temp\\ipykernel_3476\\877585188.py:15: FutureWarning: Downcasting object dtype arrays on .fillna, .ffill, .bfill is deprecated and will change in a future version. Call result.infer_objects(copy=False) instead. To opt-in to the future behavior, set `pd.set_option('future.no_silent_downcasting', True)`\n",
      "  .fillna(default)\n",
      "C:\\Users\\ACER\\AppData\\Local\\Temp\\ipykernel_3476\\877585188.py:15: FutureWarning: Downcasting object dtype arrays on .fillna, .ffill, .bfill is deprecated and will change in a future version. Call result.infer_objects(copy=False) instead. To opt-in to the future behavior, set `pd.set_option('future.no_silent_downcasting', True)`\n",
      "  .fillna(default)\n"
     ]
    }
   ],
   "source": [
    "df = convert_to_boolean(df, bool_cols)"
   ]
  },
  {
   "cell_type": "markdown",
   "id": "577d574e",
   "metadata": {},
   "source": [
    "#### 4.2. Formatting Categorical Data using Label Encoding"
   ]
  },
  {
   "cell_type": "code",
   "execution_count": 177,
   "id": "cf31fe29",
   "metadata": {},
   "outputs": [
    {
     "data": {
      "text/plain": [
       "array([nan, 'same', '0', 'different', 'both'], dtype=object)"
      ]
     },
     "execution_count": 177,
     "metadata": {},
     "output_type": "execute_result"
    }
   ],
   "source": [
    "df['Supplied to same Municipality or different?'].unique()"
   ]
  },
  {
   "cell_type": "code",
   "execution_count": 180,
   "id": "bf2088e6",
   "metadata": {},
   "outputs": [
    {
     "data": {
      "text/plain": [
       "array([nan, 'same', 'different', '0', 'both'], dtype=object)"
      ]
     },
     "execution_count": 180,
     "metadata": {},
     "output_type": "execute_result"
    }
   ],
   "source": [
    "df['Supplied to same ward or different wards?'].unique()"
   ]
  },
  {
   "cell_type": "code",
   "execution_count": 181,
   "id": "298d299d",
   "metadata": {},
   "outputs": [],
   "source": [
    "def label_encode_columns(df, columns, mapping, default_label='unknown'):\n",
    "    for column in columns:\n",
    "        df[column] = (\n",
    "            df[column]\n",
    "            .astype(str)\n",
    "            .str.strip()\n",
    "            .str.lower()\n",
    "            .replace('nan', default_label)  \n",
    "        )\n",
    "        \n",
    "        df[column] = df[column].apply(lambda x: x if x in mapping else default_label)\n",
    "        df[column] = df[column].map(mapping).astype(int)\n",
    "    \n",
    "    return df"
   ]
  },
  {
   "cell_type": "code",
   "execution_count": 182,
   "id": "bef2a919",
   "metadata": {},
   "outputs": [],
   "source": [
    "columns_to_encode = [\n",
    "    'Supplied to same Municipality or different?',\n",
    "    'Supplied to same ward or different wards?'\n",
    "]\n",
    "\n",
    "shared_mapping = {\n",
    "    'same': 1,\n",
    "    'different': 0,\n",
    "    '0': 0,\n",
    "    'both': 2,\n",
    "    'unknown': 3\n",
    "}\n",
    "\n",
    "df = label_encode_columns(df, columns_to_encode, shared_mapping)\n"
   ]
  },
  {
   "cell_type": "code",
   "execution_count": 183,
   "id": "0e0e9e51",
   "metadata": {},
   "outputs": [
    {
     "data": {
      "text/plain": [
       "array(['no_change', nan, 'improved', 'Same', 'Degraded', 'degraded'],\n",
       "      dtype=object)"
      ]
     },
     "execution_count": 183,
     "metadata": {},
     "output_type": "execute_result"
    }
   ],
   "source": [
    "df['Perception on source water quality change'].unique()"
   ]
  },
  {
   "cell_type": "code",
   "execution_count": 184,
   "id": "30974521",
   "metadata": {},
   "outputs": [
    {
     "data": {
      "text/plain": [
       "array([nan, 'Degraded', 'no_change', 'Improved', 'decreased', 'increased',\n",
       "       'dried', '0', 'BCTS'], dtype=object)"
      ]
     },
     "execution_count": 184,
     "metadata": {},
     "output_type": "execute_result"
    }
   ],
   "source": [
    "df['Any impact due to 2015 earthquake?'].unique()"
   ]
  },
  {
   "cell_type": "code",
   "execution_count": null,
   "id": "294b3a51",
   "metadata": {},
   "outputs": [],
   "source": []
  }
 ],
 "metadata": {
  "kernelspec": {
   "display_name": "pytorch",
   "language": "python",
   "name": "python3"
  },
  "language_info": {
   "codemirror_mode": {
    "name": "ipython",
    "version": 3
   },
   "file_extension": ".py",
   "mimetype": "text/x-python",
   "name": "python",
   "nbconvert_exporter": "python",
   "pygments_lexer": "ipython3",
   "version": "3.12.8"
  }
 },
 "nbformat": 4,
 "nbformat_minor": 5
}
